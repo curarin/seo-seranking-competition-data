{
 "cells": [
  {
   "cell_type": "code",
   "execution_count": 1,
   "id": "92030762",
   "metadata": {},
   "outputs": [],
   "source": [
    "import pandas as pd\n",
    "import xlrd\n",
    "import numpy as np\n",
    "import io\n",
    "import os \n",
    "from pandas.io import gbq\n",
    "import pandas_gbq\n",
    "from google.oauth2 import service_account\n",
    "from google.cloud import bigquery\n",
    "import dateutil.relativedelta\n",
    "import datetime"
   ]
  },
  {
   "cell_type": "code",
   "execution_count": 7,
   "id": "538cd2a6",
   "metadata": {},
   "outputs": [
    {
     "name": "stdout",
     "output_type": "stream",
     "text": [
      "1.21.5\n"
     ]
    }
   ],
   "source": [
    "print(np.__version__)"
   ]
  },
  {
   "cell_type": "code",
   "execution_count": 2,
   "id": "d260eb50",
   "metadata": {},
   "outputs": [],
   "source": [
    "from pydrive2.auth import GoogleAuth\n",
    "from pydrive2.drive import GoogleDrive"
   ]
  },
  {
   "cell_type": "code",
   "execution_count": 3,
   "id": "34944cd1",
   "metadata": {},
   "outputs": [],
   "source": [
    "# Variablen Section - Anpassen je nach Kunde / Domain\n",
    "bq_table = \"###\"\n",
    "recipients = [\"###\", \"seo@paulherzog.at\"]\n",
    "mail_content = \"Aktuelle Daten sind im Dashboard vorhanden. Bitte folge dem Link: ###\"\n",
    "\n",
    "# Außerdem noch anzupassen: FileID unter \"file_list\""
   ]
  },
  {
   "cell_type": "code",
   "execution_count": 36,
   "id": "ca83cbef",
   "metadata": {
    "scrolled": false
   },
   "outputs": [
    {
     "name": "stdout",
     "output_type": "stream",
     "text": [
      "title: se_ranking.xls, id: 1P_mSzYgdTMJ3thcve-On5OhlEJhNWe1r\n",
      "title: se_ranking_old.xls, id: 1KldilnKKWG_eaqflrysA0GHnEAYmyKnl\n",
      "title: se_ranking_old.xls, id: 1ZI4q7ysNQz6yTnGnPuz7WEr1NgoiqQFw\n",
      "title: se_ranking_old.xls, id: 1qJ_7VtLWHbEdYUXyGfxOD4JGcmAvKdhT\n",
      "title: se_ranking_old.xls, id: 1S0bW2S3HZAzpQDWkOg2PrtRNTuDLSN5z\n",
      "title: se_ranking_old.xls, id: 1GPMeWhNLCtqYgzzfnKEjhUeBThfe7Izo\n",
      "title: se_ranking_old.xls, id: 1McyplTocN_pem9rjoXPK_iaNrwuq2FXA\n",
      "title: se_ranking_old.xls, id: 1fEA-7m1-fEe2AqBZLWUtIIkNvI3eGDr8\n",
      "title: se_ranking_old.xls, id: 1o0DAgCcswyVvmbIGIdX_f3ZERhlyiTGs\n",
      "title: se_ranking_old.xls, id: 11WYp49BaPlUQ06VOKX9GgdMWBTh9K-mQ\n",
      "title: se_ranking_old.xls, id: 1SC-RT_EPOneFFAN4D1tWXhZna-AY9dp5\n",
      "title: _Archiv, id: 1ivLYqwLW9I2PpoxZTw7ew3o0Kzuqa1m5\n"
     ]
    },
    {
     "name": "stderr",
     "output_type": "stream",
     "text": [
      "100%|███████████████████████████████████████████| 1/1 [00:00<00:00, 7244.05it/s]\n"
     ]
    }
   ],
   "source": [
    "def login_now():\n",
    "    \"\"\"\n",
    "    Google Drive service with a service account.\n",
    "    note: for the service account to work, you need to share the folder or\n",
    "    files with the service account email.\n",
    "\n",
    "    :return: google auth\n",
    "    \"\"\"\n",
    "    # Define the settings dict to use a service account\n",
    "    # We also can use all options available for the settings dict like\n",
    "    # oauth_scope,save_credentials,etc.\n",
    "    settings = {\n",
    "                \"client_config_backend\": \"service\",\n",
    "                \"service_config\": {\n",
    "                    \"client_json_file_path\": \"/Users/paulherzog/Library/CloudStorage/GoogleDrive-curatehowl@gmail.com/My Drive/Projekte/Python Projekte/service-account-secret-key-seopaulherzog.json\",\n",
    "                }\n",
    "            }\n",
    "    # Create instance of GoogleAuth\n",
    "    gauth = GoogleAuth(settings=settings)\n",
    "    # Authenticate\n",
    "    gauth.ServiceAuth()\n",
    "    drive = GoogleDrive(gauth)\n",
    "    destination_file = \"/tmp/se_ranking.xls\"\n",
    "    source_file = \"se_ranking.xls\"\n",
    "    # List files in Google Drive - q ist hier der Job Traveler Folder\n",
    "    file_list = drive.ListFile({'q': \"'1QamY00VYE8Vrl5wtww7UjmFa2G64A8OP' in parents and trashed=false\"}).GetList()\n",
    "\n",
    "    # Find file to update\n",
    "    for file1 in file_list:\n",
    "        print('title: %s, id: %s' % (file1['title'], file1['id']))\n",
    "        if file1['title'] == source_file:\n",
    "            file_of_interest = file1\n",
    "\n",
    "    file_of_interest.GetContentFile(destination_file)\n",
    "    file_of_interest[\"title\"] = \"se_ranking_old.xls\"\n",
    "    file_of_interest.Upload()\n",
    "    \n",
    "    workbook = xlrd.open_workbook(destination_file, ignore_workbook_corruption=True)\n",
    "    se_ranking_raw = pd.read_excel(workbook)\n",
    "    se_ranking_raw.columns = se_ranking_raw.iloc[4]\n",
    "    se_ranking_raw = se_ranking_raw.iloc[5:]\n",
    "    se_ranking_raw = se_ranking_raw.loc[:, se_ranking_raw.columns.notna()]\n",
    "\n",
    "    # Tagging based on SE Ranking Tags\n",
    "    se_ranking_raw[\"Tag\"] = np.where(se_ranking_raw[\"Search Vol.\"].isna(), se_ranking_raw[\"Keyword\"], \"NaN\")\n",
    "    se_ranking_raw = se_ranking_raw.replace(\"NaN\", np.nan)\n",
    "    se_ranking_raw[\"Tag\"] = se_ranking_raw.Tag.replace(r'^\\s*$', \"NaN\", regex=True).ffill()\n",
    "    se_ranking_raw = se_ranking_raw[se_ranking_raw[\"Search Vol.\"].notna()]\n",
    "\n",
    "    # Melting Data\n",
    "    se_ranking_raw = se_ranking_raw.melt([\"Keyword\", \"Search Vol.\", \"Tag\"], var_name=\"Domains\", value_name=\"Ranking\")\n",
    "    se_ranking_raw = se_ranking_raw.replace([\"-\", \"ND\"], 0)\n",
    "\n",
    "    # Tagging nach Google Seite\n",
    "    se_ranking_raw[\"Google_Seite\"] = pd.cut(se_ranking_raw[\"Ranking\"], bins=[0, 10, 20, 30, 40, 50, 60, 70, 80, 90, 100], labels=[\"1\", \"2\", \"3\", \"4\", \"5\", \"6\", \"7\", \"8\", \"9\", \"10\"])\n",
    "    se_ranking_raw = se_ranking_raw.replace(\"NaN\", np.nan)\n",
    "    se_ranking_raw[\"Google_Seite\"] = se_ranking_raw[\"Google_Seite\"].astype(str)\n",
    "    se_ranking_raw = se_ranking_raw.replace(\"nan\", \"0\")\n",
    "    se_ranking_raw[\"Google_Seite\"] = se_ranking_raw[\"Google_Seite\"].astype(int)\n",
    "\n",
    "    # date today\n",
    "    #now = datetime.datetime.now()\n",
    "    #prev = now + dateutil.relativedelta.relativedelta(months=-1)\n",
    "    #se_ranking_raw[\"Date\"] = prev.strftime(\"%Y-%m-%d\")\n",
    "    se_ranking_raw[\"Date\"] = \"2023-01-01\"\n",
    "    se_ranking_raw[\"Date\"] = se_ranking_raw[\"Date\"].apply(pd.to_datetime)\n",
    "\n",
    "    # string replace http / https\n",
    "    se_ranking_raw = se_ranking_raw.replace(to_replace = 'https?://', value = '', regex = True)\n",
    "    \n",
    "    # rename invalid column names for bigquery\n",
    "    se_ranking_raw = se_ranking_raw.rename(columns={\"Search Vol.\": \"SV\"})\n",
    "    \n",
    "    # traffic forecast\n",
    "    sistrix_ctr = [[\"1\", 0.342], [\"2\", 0.171], [\"3\", 0.114], [\"4\", 0.081], [\"5\", 0.074], [\"6\", 0.051], [\"7\", 0.041], [\"8\", 0.033], [\"9\", 0.029], [\"10\", 0.026]]\n",
    "    df_sistrix_ctr = pd.DataFrame(sistrix_ctr, columns=[\"Ranking\", \"CTR\"])\n",
    "    df_sistrix_ctr[\"Ranking\"] = df_sistrix_ctr[\"Ranking\"].astype(int)\n",
    "    se_ranking_raw = se_ranking_raw.merge(df_sistrix_ctr, how=\"left\", on=\"Ranking\")\n",
    "    se_ranking_raw[\"traffic_forecast\"] = se_ranking_raw[\"SV\"] * se_ranking_raw[\"CTR\"]\n",
    "    se_ranking_raw[\"traffic_forecast\"] = se_ranking_raw[\"traffic_forecast\"].round(decimals=0)\n",
    "    \n",
    "    return se_ranking_raw\n",
    "    \n",
    "\n",
    "se_ranking = login_now()\n",
    "\n",
    "credentials = service_account.Credentials.from_service_account_file(\n",
    "        'key.json',\n",
    "    )\n",
    "pandas_gbq.to_gbq(se_ranking, bq_table, project_id=\"###\", if_exists=\"append\", credentials=credentials)\n",
    "\n",
    "    "
   ]
  },
  {
   "cell_type": "code",
   "execution_count": null,
   "id": "709fd9c2",
   "metadata": {},
   "outputs": [],
   "source": [
    "import smtplib, ssl\n",
    "from email.message import EmailMessage\n",
    "\n",
    "port = 465  # For SSL\n",
    "smtp_server = \"smtp.gmail.com\"\n",
    "sender_email = \"seo@paulherzog.at\"  \n",
    "password = \"###\"\n",
    "\n",
    "msg = EmailMessage()\n",
    "msg.set_content(mail_content)\n",
    "msg['Subject'] = \"SEO Daten Update | Reporting\"\n",
    "msg['From'] = sender_email\n",
    "msg['To'] = recipients\n",
    "\n",
    "context = ssl.create_default_context()\n",
    "with smtplib.SMTP_SSL(smtp_server, port, context=context) as server:\n",
    "    server.login(sender_email, password)\n",
    "    server.send_message(msg, from_addr=sender_email, to_addrs=recipients)"
   ]
  },
  {
   "cell_type": "code",
   "execution_count": null,
   "id": "ca96fe0a",
   "metadata": {},
   "outputs": [],
   "source": []
  }
 ],
 "metadata": {
  "kernelspec": {
   "display_name": "Python 3 (ipykernel)",
   "language": "python",
   "name": "python3"
  },
  "language_info": {
   "codemirror_mode": {
    "name": "ipython",
    "version": 3
   },
   "file_extension": ".py",
   "mimetype": "text/x-python",
   "name": "python",
   "nbconvert_exporter": "python",
   "pygments_lexer": "ipython3",
   "version": "3.9.12"
  }
 },
 "nbformat": 4,
 "nbformat_minor": 5
}
